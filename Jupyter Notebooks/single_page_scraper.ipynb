{
 "cells": [
  {
   "cell_type": "code",
   "execution_count": 1,
   "id": "1379bbac",
   "metadata": {},
   "outputs": [],
   "source": [
    "import requests\n",
    "from bs4 import BeautifulSoup"
   ]
  },
  {
   "cell_type": "code",
   "execution_count": 2,
   "id": "87140d59",
   "metadata": {},
   "outputs": [],
   "source": [
    "url = \"https://developers.google.com/earth-engine/datasets/catalog/AAFC_ACI#bands\"\n",
    "\n",
    "headers = {\n",
    "    'User-Agent': 'Mozilla/5.0 (Windows NT 6.3; Win64; x64) AppleWebKit/537.36 (KHTML, like Gecko) Chrome/80.0.3987.162 Safari/537.36'\n",
    "}\n",
    "\n",
    "web_page = requests.get(url, headers=headers).content\n",
    "\n",
    "soup = BeautifulSoup(web_page, 'lxml')"
   ]
  },
  {
   "cell_type": "code",
   "execution_count": 3,
   "id": "bb132b7e",
   "metadata": {},
   "outputs": [
    {
     "data": {
      "text/plain": [
       "'Canada AAFC Annual Crop Inventory'"
      ]
     },
     "execution_count": 3,
     "metadata": {},
     "output_type": "execute_result"
    }
   ],
   "source": [
    "title = soup.find(\"h1\", class_=\"devsite-page-title\").text\n",
    "\n",
    "title"
   ]
  },
  {
   "cell_type": "code",
   "execution_count": 4,
   "id": "3c873c31",
   "metadata": {},
   "outputs": [
    {
     "data": {
      "text/plain": [
       "<dl>\n",
       "<dt>Dataset Availability</dt>\n",
       "<dd>2009-01-01T00:00:00Z–2022-01-01T00:00:00</dd>\n",
       "<dt>Dataset Provider</dt>\n",
       "<dd>\n",
       "<span itemprop=\"provider\" itemscope=\"\" itemtype=\"http://schema.org/Organization\">\n",
       "<a href=\"https://open.canada.ca/data/en/dataset/ba2645d5-4458-414d-b196-6303ac06c1c9\" itemprop=\"url\">\n",
       "<span itemprop=\"name\">Agriculture and Agri-Food Canada</span>\n",
       "</a>\n",
       "</span>\n",
       "</dd>\n",
       "<dt>Earth Engine Snippet</dt>\n",
       "<dd>\n",
       "<span>\n",
       "<code class=\"devsite-click-to-copy prettyprint lang-js\" dir=\"ltr\" translate=\"no\">\n",
       "      ee.ImageCollection(\"AAFC/ACI\")\n",
       "    </code>\n",
       "<button class=\"devsite-dialog-button\" data-modal-dialog-id=\"ee-signup-modal-dialog\">\n",
       "<span aria-hidden=\"true\" class=\"material-icons\" translate=\"no\">open_in_new</span>\n",
       "</button>\n",
       "<div class=\"devsite-dialog ee-signup-modal-dialog\" id=\"ee-signup-modal-dialog\">\n",
       "<div class=\"devsite-dialog-contents inline open-in-ee\">\n",
       "<h3 data-text=\"Sign up for Earth Engine\" id=\"sign-up-for-earth-engine\">Sign up for Earth Engine</h3>\n",
       "<p>Earth Engine is free to use for research, education, and nonprofit use.</p>\n",
       "<p>To access this dataset in Earth Engine, please sign up for Earth Engine\n",
       "        then return to this page.\n",
       "    </p></div>\n",
       "<div class=\"devsite-dialog-buttons\">\n",
       "<button class=\"devsite-dialog-close\">Cancel</button>\n",
       "<a class=\"button button-white\" href=\"https://signup.earthengine.google.com/#!/\" target=\"_blank\">Sign up</a>\n",
       "</div>\n",
       "</div>\n",
       "</span>\n",
       "</dd>\n",
       "<dt>Tags</dt>\n",
       "<dd>\n",
       "<span class=\"ee-tag-buttons\">\n",
       "<a class=\"ee-chip ee-tag\" href=\"/earth-engine/datasets/tags/canada\">canada</a>\n",
       "<a class=\"ee-chip ee-tag\" href=\"/earth-engine/datasets/tags/crop\">crop</a>\n",
       "<a class=\"ee-chip ee-tag\" href=\"/earth-engine/datasets/tags/landcover\">landcover</a>\n",
       "<div class=\"ee-tag-inactive\">aafc</div>\n",
       "</span>\n",
       "</dd>\n",
       "</dl>"
      ]
     },
     "execution_count": 4,
     "metadata": {},
     "output_type": "execute_result"
    }
   ],
   "source": [
    "info_box = soup.find(\"dl\")\n",
    "\n",
    "info_box"
   ]
  },
  {
   "cell_type": "code",
   "execution_count": 5,
   "id": "bc1386eb",
   "metadata": {},
   "outputs": [
    {
     "data": {
      "text/plain": [
       "'2009-01-01T00:00:00Z–2022-01-01T00:00:00'"
      ]
     },
     "execution_count": 5,
     "metadata": {},
     "output_type": "execute_result"
    }
   ],
   "source": [
    "dataset_availability = info_box.find(\"dt\", string=\"Dataset Availability\").find_next(\"dd\").text\n",
    "\n",
    "dataset_availability"
   ]
  },
  {
   "cell_type": "code",
   "execution_count": 6,
   "id": "8aaf3522",
   "metadata": {},
   "outputs": [
    {
     "data": {
      "text/plain": [
       "('Agriculture and Agri-Food Canada',\n",
       " 'https://open.canada.ca/data/en/dataset/ba2645d5-4458-414d-b196-6303ac06c1c9')"
      ]
     },
     "execution_count": 6,
     "metadata": {},
     "output_type": "execute_result"
    }
   ],
   "source": [
    "provider_name = info_box.find(\"dt\", string=\"Dataset Provider\").find_next(\"span\", itemprop=\"name\").text\n",
    "\n",
    "provider_url = info_box.find(\"dt\", string=\"Dataset Provider\").find_next(\"a\")[\"href\"]\n",
    "\n",
    "provider_name, provider_url"
   ]
  },
  {
   "cell_type": "code",
   "execution_count": 7,
   "id": "23fa7e54",
   "metadata": {},
   "outputs": [
    {
     "data": {
      "text/plain": [
       "['canada', 'crop', 'landcover']"
      ]
     },
     "execution_count": 7,
     "metadata": {},
     "output_type": "execute_result"
    }
   ],
   "source": [
    "tags = [tag.text for tag in info_box.find(\"dt\", string=\"Tags\").find_next(\"span\", class_=\"ee-tag-buttons\").find_all(\"a\", class_=\"ee-chip\")]\n",
    "\n",
    "tags"
   ]
  },
  {
   "cell_type": "code",
   "execution_count": 8,
   "id": "b0e2dda4",
   "metadata": {},
   "outputs": [],
   "source": [
    "table_info = soup.find_all('table')\n",
    "\n",
    "# table_info"
   ]
  },
  {
   "cell_type": "code",
   "execution_count": 9,
   "id": "9db2cf53",
   "metadata": {},
   "outputs": [
    {
     "name": "stdout",
     "output_type": "stream",
     "text": [
      "['landcover', '10', '20', '30', '34', '35', '50', '80', '85', '110', '120', '122', '130', '131', '132', '133', '134', '135', '136', '137', '138', '139', '140', '141', '142', '143', '145', '146', '147', '148', '149', '150', '151', '152', '153', '154', '155', '156', '157', '158', '160', '161', '162', '163', '167', '168', '174', '175', '176', '177', '178', '179', '180', '181', '182', '183', '185', '188', '189', '190', '191', '192', '193', '194', '195', '196', '197', '198', '199', '200', '210', '220', '230', 'landcover_class_names', 'landcover_class_palette', 'landcover_class_values']\n"
     ]
    }
   ],
   "source": [
    "# This code extracts and collects the values from the first column of each table present in the page's content.\n",
    "# The purpose of collecting these values is in response to a client's request for specific data from the web page.\n",
    "\n",
    "first_col_values = []\n",
    "\n",
    "for table in table_info:\n",
    "    for row in table.find_all('tr'):\n",
    "        columns = row.find_all(['th', 'td'])\n",
    "        if columns and columns[0].name == 'td':\n",
    "            first_col_values.append(columns[0].get_text(strip=True))\n",
    "\n",
    "print(first_col_values)"
   ]
  },
  {
   "cell_type": "code",
   "execution_count": 10,
   "id": "57b5a76d",
   "metadata": {},
   "outputs": [],
   "source": [
    "with open(\"E:\\Workspace\\Earth-Engine-Data-Scraping\\Web Scraping Results\\sample.txt\", \"w\") as f:\n",
    "    f.write(f\"{title}\\n\\n\")\n",
    "    f.write(f\"{dataset_availability}\\n\\n\")\n",
    "    f.write(f\"{provider_name}\\n\")\n",
    "    f.write(f\"{provider_url}\\n\\n\")\n",
    "    \n",
    "    for tag in tags:\n",
    "        f.write(f\"{tag}\\n\")\n",
    "    \n",
    "    f.write(\"\\n\")\n",
    "    \n",
    "    for value in first_col_values:\n",
    "        f.write(f\"{value}\\n\")"
   ]
  }
 ],
 "metadata": {
  "kernelspec": {
   "display_name": "Python 3 (ipykernel)",
   "language": "python",
   "name": "python3"
  },
  "language_info": {
   "codemirror_mode": {
    "name": "ipython",
    "version": 3
   },
   "file_extension": ".py",
   "mimetype": "text/x-python",
   "name": "python",
   "nbconvert_exporter": "python",
   "pygments_lexer": "ipython3",
   "version": "3.11.1"
  }
 },
 "nbformat": 4,
 "nbformat_minor": 5
}
