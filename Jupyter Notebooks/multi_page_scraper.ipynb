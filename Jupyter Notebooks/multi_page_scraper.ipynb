{
 "cells": [
  {
   "cell_type": "code",
   "execution_count": 1,
   "id": "c53685e7",
   "metadata": {},
   "outputs": [],
   "source": [
    "import time\n",
    "import requests\n",
    "from bs4 import BeautifulSoup"
   ]
  },
  {
   "cell_type": "code",
   "execution_count": 2,
   "id": "5d9878df",
   "metadata": {},
   "outputs": [],
   "source": [
    "headers = {\n",
    "    'User-Agent': 'Mozilla/5.0 (Windows NT 6.3; Win64; x64) AppleWebKit/537.36 (KHTML, like Gecko) Chrome/80.0.3987.162 Safari/537.36'\n",
    "}\n",
    "\n",
    "def get_soup_from_url(url):\n",
    "    try:\n",
    "        web_page = requests.get(url, headers=headers).content\n",
    "        return BeautifulSoup(web_page, 'lxml')\n",
    "    \n",
    "    except requests.exceptions.RequestException as e:\n",
    "        print(f\"Error fetching URL {url}: {e}\")\n",
    "        return None"
   ]
  },
  {
   "cell_type": "code",
   "execution_count": 3,
   "id": "19400c7a",
   "metadata": {},
   "outputs": [],
   "source": [
    "url = \"https://developers.google.com/earth-engine/datasets/catalog\"\n",
    "\n",
    "soup = get_soup_from_url(url)"
   ]
  },
  {
   "cell_type": "code",
   "execution_count": 4,
   "id": "0fbc4bb0",
   "metadata": {},
   "outputs": [],
   "source": [
    "base_url = \"https://developers.google.com\"\n",
    "\n",
    "urls = [li.find(\"a\", href=True)['href'] for li in soup.find_all(\"li\", class_=\"ee-sample-image ee-cards devsite-landing-row-item-description\")]\n"
   ]
  },
  {
   "cell_type": "code",
   "execution_count": 5,
   "id": "bbea4793",
   "metadata": {},
   "outputs": [
    {
     "data": {
      "text/plain": [
       "600"
      ]
     },
     "execution_count": 5,
     "metadata": {},
     "output_type": "execute_result"
    }
   ],
   "source": [
    "len(urls)"
   ]
  },
  {
   "cell_type": "code",
   "execution_count": 6,
   "id": "a4c119fa",
   "metadata": {},
   "outputs": [
    {
     "data": {
      "text/plain": [
       "['/earth-engine/datasets/catalog/AAFC_ACI',\n",
       " '/earth-engine/datasets/catalog/ACA_reef_habitat_v2_0',\n",
       " '/earth-engine/datasets/catalog/AHN_AHN2_05M_INT',\n",
       " '/earth-engine/datasets/catalog/AHN_AHN2_05M_NON',\n",
       " '/earth-engine/datasets/catalog/AHN_AHN2_05M_RUW',\n",
       " '/earth-engine/datasets/catalog/ASTER_AST_L1T_003',\n",
       " '/earth-engine/datasets/catalog/AU_GA_AUSTRALIA_5M_DEM',\n",
       " '/earth-engine/datasets/catalog/AU_GA_DEM_1SEC_v10_DEM-H',\n",
       " '/earth-engine/datasets/catalog/AU_GA_DEM_1SEC_v10_DEM-S',\n",
       " '/earth-engine/datasets/catalog/BIOPAMA_GlobalOilPalm_v1']"
      ]
     },
     "execution_count": 6,
     "metadata": {},
     "output_type": "execute_result"
    }
   ],
   "source": [
    "urls[:10]"
   ]
  },
  {
   "cell_type": "code",
   "execution_count": 7,
   "id": "fcbd0485",
   "metadata": {},
   "outputs": [
    {
     "name": "stdout",
     "output_type": "stream",
     "text": [
      "https://developers.google.com/earth-engine/datasets/catalog/AAFC_ACI\n",
      "https://developers.google.com/earth-engine/datasets/catalog/ACA_reef_habitat_v2_0\n",
      "https://developers.google.com/earth-engine/datasets/catalog/AHN_AHN2_05M_INT\n",
      "https://developers.google.com/earth-engine/datasets/catalog/AHN_AHN2_05M_NON\n",
      "https://developers.google.com/earth-engine/datasets/catalog/AHN_AHN2_05M_RUW\n",
      "https://developers.google.com/earth-engine/datasets/catalog/ASTER_AST_L1T_003\n",
      "https://developers.google.com/earth-engine/datasets/catalog/AU_GA_AUSTRALIA_5M_DEM\n",
      "https://developers.google.com/earth-engine/datasets/catalog/AU_GA_DEM_1SEC_v10_DEM-H\n",
      "https://developers.google.com/earth-engine/datasets/catalog/AU_GA_DEM_1SEC_v10_DEM-S\n",
      "https://developers.google.com/earth-engine/datasets/catalog/BIOPAMA_GlobalOilPalm_v1\n"
     ]
    }
   ],
   "source": [
    "for url in urls[:10]:\n",
    "    print(base_url + url)"
   ]
  },
  {
   "cell_type": "code",
   "execution_count": 8,
   "id": "5ab2b9bd",
   "metadata": {},
   "outputs": [],
   "source": [
    "# Print the BeautifulSoup object obtained from the URL\n",
    "\n",
    "# print(get_soup_from_url(base_url + urls[0]))"
   ]
  },
  {
   "cell_type": "code",
   "execution_count": 9,
   "id": "5aaff685",
   "metadata": {},
   "outputs": [],
   "source": [
    "def extract_data(soup):\n",
    "    data = {}\n",
    "    \n",
    "    data['title'] = soup.find(\"h1\", class_=\"devsite-page-title\").text\n",
    "    \n",
    "    info_box = soup.find(\"dl\")\n",
    "    \n",
    "    data['availability'] = info_box.find(\"dt\", string=\"Dataset Availability\").find_next(\"dd\").text\n",
    "    \n",
    "    data['provider_name'] = info_box.find(\"dt\", string=\"Dataset Provider\").find_next(\"span\", itemprop=\"name\").text\n",
    "    \n",
    "    data['provider_url'] = info_box.find(\"dt\", string=\"Dataset Provider\").find_next(\"a\")[\"href\"]\n",
    "    \n",
    "    data['tags'] = [tag.text for tag in info_box.find(\"dt\", string=\"Tags\").find_next(\"span\", class_=\"ee-tag-buttons\").find_all(\"a\", class_=\"ee-chip\")]\n",
    "    \n",
    "    table_info = soup.find_all('table')\n",
    "    \n",
    "    first_col_values = []\n",
    "\n",
    "    for table in table_info:\n",
    "        for row in table.find_all('tr'):\n",
    "            columns = row.find_all(['th', 'td'])\n",
    "            if columns and columns[0].name == 'td':\n",
    "                first_col_values.append(columns[0].get_text(strip=True))\n",
    "    \n",
    "    data['first_col_values'] = first_col_values\n",
    "    \n",
    "    return data"
   ]
  },
  {
   "cell_type": "code",
   "execution_count": 10,
   "id": "970a9201",
   "metadata": {},
   "outputs": [],
   "source": [
    "def write_data_to_file(index, data):\n",
    "    filename = f\"E:/Workspace/Earth-Engine-Data-Scraping/Web Scraping Results/file{index}.txt\"\n",
    "    \n",
    "    with open(filename, \"w\") as f:\n",
    "        f.write(data['title'] + \"\\n\\n\")\n",
    "        f.write(data['availability'] + \"\\n\\n\")\n",
    "        f.write(data['provider_name'] + \"\\n\")\n",
    "        f.write(data['provider_url'] + \"\\n\\n\")\n",
    "        \n",
    "        for tag in data['tags']:\n",
    "            f.write(tag + \"\\n\")\n",
    "            \n",
    "        f.write(\"\\n\")\n",
    "        \n",
    "        for i in data['first_col_values']:\n",
    "            f.write(i + \"\\n\")\n"
   ]
  },
  {
   "cell_type": "code",
   "execution_count": 11,
   "id": "f6cef3aa",
   "metadata": {},
   "outputs": [
    {
     "name": "stdout",
     "output_type": "stream",
     "text": [
      "Data written to file 0 successfully.\n",
      "Data written to file 1 successfully.\n",
      "Data written to file 2 successfully.\n",
      "Data written to file 3 successfully.\n",
      "Data written to file 4 successfully.\n",
      "Data written to file 5 successfully.\n",
      "Data written to file 6 successfully.\n",
      "Data written to file 7 successfully.\n",
      "Data written to file 8 successfully.\n",
      "Data written to file 9 successfully.\n"
     ]
    }
   ],
   "source": [
    "# for index in range(len(urls)):\n",
    "for index in range(10):\n",
    "    soup = get_soup_from_url(base_url + urls[index])\n",
    "\n",
    "    if soup is None:\n",
    "        print(f\"Skipping index {index} due to failed URL retrieval.\")\n",
    "        continue\n",
    "        \n",
    "    try:\n",
    "        data = extract_data(soup)\n",
    "        write_data_to_file(index, data)\n",
    "        print(f\"Data written to file {index} successfully.\")\n",
    "        \n",
    "    except Exception as e:\n",
    "        print(f\"An error occurred while processing index {index}: {e}\")\n",
    "    \n",
    "    time.sleep(5)\n"
   ]
  }
 ],
 "metadata": {
  "kernelspec": {
   "display_name": "Python 3 (ipykernel)",
   "language": "python",
   "name": "python3"
  },
  "language_info": {
   "codemirror_mode": {
    "name": "ipython",
    "version": 3
   },
   "file_extension": ".py",
   "mimetype": "text/x-python",
   "name": "python",
   "nbconvert_exporter": "python",
   "pygments_lexer": "ipython3",
   "version": "3.11.1"
  }
 },
 "nbformat": 4,
 "nbformat_minor": 5
}
